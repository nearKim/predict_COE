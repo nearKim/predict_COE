{
 "cells": [
  {
   "cell_type": "code",
   "execution_count": 2,
   "metadata": {
    "collapsed": true
   },
   "outputs": [],
   "source": [
    "import requests\n",
    "import copy\n",
    "import pandas as pd\n",
    "import numpy as np\n",
    "from bs4 import BeautifulSoup"
   ]
  },
  {
   "cell_type": "code",
   "execution_count": 3,
   "metadata": {
    "collapsed": true
   },
   "outputs": [],
   "source": [
    "countries_dict = {\"Bolivia\": \"bolivia\", \"Brazil Naturals\" : \"brazil-naturals\"  , \"Brazil Pulped Naturals\":\"brazil-pulped-naturals\", \"Burundi\": \"burundi-program\", \"Colombia\" : \"colombia-third-program\" , \"Colombia North\": \"colombia-program\", \"Colombia South\" : \"colombia-second-program\", \"Costa Rica\": \"costa-rica-program\", \"El Salvador\" : \"el-salvador-program\", \"Guatemala\" : \"guatemala-program\", \"Honduras\" : \"honduras-program\" , \"Mexico\" : \"mexico-program\", \"Nicaragua\" : \"nicaragua-program\", \" Peru\" : \"peru\", \"Rwanda\" : \"rwanda-program\"}"
   ]
  },
  {
   "cell_type": "code",
   "execution_count": 5,
   "metadata": {
    "collapsed": false
   },
   "outputs": [],
   "source": [
    "def get_year_spider(country):\n",
    "    \"\"\"\n",
    "    country: which country to be crawled\n",
    "    result: list of years that COE performed\n",
    "    \"\"\"\n",
    "    result = []\n",
    "    url = \"https://www.allianceforcoffeeexcellence.org/en/cup-of-excellence/country-programs/\" + str(country)\n",
    "    source_code = requests.get(url)\n",
    "    plain_text = source_code.text\n",
    "    soup = BeautifulSoup(plain_text, 'lxml')\n",
    "    select = soup.find('select', id = 'id_competition')\n",
    "    result = [year.text for year in select.find_all('option')]\n",
    "    return result"
   ]
  },
  {
   "cell_type": "code",
   "execution_count": 6,
   "metadata": {
    "collapsed": false
   },
   "outputs": [
    {
     "name": "stdout",
     "output_type": "stream",
     "text": [
      "Trying to crawl country.... bolivia\n",
      "Successful.\n",
      "Trying to crawl country.... brazil-naturals\n",
      "Successful.\n",
      "Trying to crawl country.... brazil-pulped-naturals\n",
      "Successful.\n",
      "Trying to crawl country.... burundi-program\n",
      "Successful.\n",
      "Trying to crawl country.... colombia-third-program\n",
      "Failed.\n",
      "Trying to crawl country.... colombia-program\n",
      "Successful.\n",
      "Trying to crawl country.... colombia-second-program\n",
      "Successful.\n",
      "Trying to crawl country.... costa-rica-program\n",
      "Successful.\n",
      "Trying to crawl country.... el-salvador-program\n",
      "Successful.\n",
      "Trying to crawl country.... guatemala-program\n",
      "Successful.\n",
      "Trying to crawl country.... honduras-program\n",
      "Successful.\n",
      "Trying to crawl country.... mexico-program\n",
      "Successful.\n",
      "Trying to crawl country.... nicaragua-program\n",
      "Successful.\n",
      "Trying to crawl country.... peru\n",
      "Failed.\n",
      "Trying to crawl country.... rwanda-program\n",
      "Successful.\n"
     ]
    }
   ],
   "source": [
    "# Initialize Dataframe\n",
    "coe = pd.DataFrame(columns = ['country', 'year'])\n",
    "\n",
    "for key, value  in countries_dict.items():\n",
    "    try:\n",
    "        print(\"Trying to crawl country.... \" + value)\n",
    "        temp_year = copy.deepcopy(get_year_spider(value))\n",
    "        temp_country = [key] * len(temp_year)\n",
    "        temp_df = pd.DataFrame(\n",
    "        {'country' : temp_country,\n",
    "        'year' : temp_year\n",
    "        })\n",
    "        coe = coe.append(temp_df)\n",
    "        print(\"Successful.\")\n",
    "    except:\n",
    "        print(\"Failed.\")\n"
   ]
  },
  {
   "cell_type": "code",
   "execution_count": 7,
   "metadata": {
    "collapsed": false
   },
   "outputs": [],
   "source": [
    "coe = coe.reset_index(drop = True)"
   ]
  },
  {
   "cell_type": "code",
   "execution_count": 35,
   "metadata": {
    "collapsed": true
   },
   "outputs": [],
   "source": [
    "def get_head_spider(country, year):\n",
    "    \"\"\"\n",
    "    country: which country to be crawled\n",
    "    year: which year to be crawled\n",
    "    result: list of years that COE performed\n",
    "    \"\"\"\n",
    "    result = []\n",
    "    url = \"https://www.allianceforcoffeeexcellence.org/en/cup-of-excellence/country-programs/\" + str(country) +\"/\"+ str(year)\n",
    "    try:\n",
    "        print(\"Trying to get headers from..... \"+ country + \", \"+ year)\n",
    "        source_code = requests.get(url)\n",
    "    except: \n",
    "        print(\"failed to retrieve headers\")\n",
    "    plain_text = source_code.text\n",
    "    soup = BeautifulSoup(plain_text, 'lxml')\n",
    "    \n",
    "    for test in soup.find_all('tr'):\n",
    "        cols = test.find_all('th')\n",
    "        result = [ele.text.strip() for ele in cols]\n",
    "        break\n",
    "    return result\n"
   ]
  },
  {
   "cell_type": "code",
   "execution_count": 36,
   "metadata": {
    "collapsed": false
   },
   "outputs": [
    {
     "name": "stdout",
     "output_type": "stream",
     "text": [
      "Trying to get headers from..... bolivia, 2009\n",
      "['Rank', 'Size', 'Farm / CWS', 'Farmer / Representative', 'Region', 'Score']\n"
     ]
    }
   ],
   "source": [
    "print(get_head_spider('bolivia', '2009'))"
   ]
  },
  {
   "cell_type": "code",
   "execution_count": null,
   "metadata": {
    "collapsed": true
   },
   "outputs": [],
   "source": [
    "def spider(max_pages):\n",
    "    page = 1\n",
    "    while page < max_pages:\n",
    "        url = \"https://www.allianceforcoffeeexcellence.org/en/cup-of-excellence/country-programs/\" + str(country) + \"/\" + str(year)\n",
    "        source_code = requests.get(url)\n",
    "        plain_text = source_code.text\n",
    "        soup = BeautifulSoup(plain_text, 'lxml')\n",
    "        \n",
    "        \n",
    "        "
   ]
  }
 ],
 "metadata": {
  "kernelspec": {
   "display_name": "Python 3",
   "language": "python",
   "name": "python3"
  },
  "language_info": {
   "codemirror_mode": {
    "name": "ipython",
    "version": 3
   },
   "file_extension": ".py",
   "mimetype": "text/x-python",
   "name": "python",
   "nbconvert_exporter": "python",
   "pygments_lexer": "ipython3",
   "version": "3.6.0"
  }
 },
 "nbformat": 4,
 "nbformat_minor": 2
}
