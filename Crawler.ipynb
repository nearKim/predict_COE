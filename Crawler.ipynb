{
 "cells": [
  {
   "cell_type": "code",
   "execution_count": 3,
   "metadata": {
    "collapsed": true
   },
   "outputs": [],
   "source": [
    "import requests\n",
    "import pandas as pd\n",
    "from bs4 import BeautifulSoup"
   ]
  },
  {
   "cell_type": "code",
   "execution_count": 4,
   "metadata": {
    "collapsed": true
   },
   "outputs": [],
   "source": [
    "coe = pd.DataFrame(columns =['Country', 'Year'])"
   ]
  },
  {
   "cell_type": "code",
   "execution_count": 1,
   "metadata": {
    "collapsed": true
   },
   "outputs": [],
   "source": [
    "countries_dict = {\"Bolivia\": \"bolivia\", \"Brazil Naturals\" : \"brazil-naturals\"  , \"Brazil Pulped Naturals\":\"brazil-pulped-naturals\", \"Burundi\": \"burundi-program\", \"Colombia\" : \"colombia-third-program\" , \"Colombia North\": \"colombia-program\", \"Colombia South\" : \"colombia-second-program\", \"Costa Rica\": \"costa-rica-program\", \"El Salvador\" : \"el-salvador-program\", \"Guatemala\" : \"guatemala-program\", \"Honduras\" : \"honduras-program\" , \"Mexico\" : \"mexico-program\", \"Nicaragua\" : \"nicaragua-program\", \" Peru\" : \"peru\", \"Rwanda\" : \"rwanda-program\"}"
   ]
  },
  {
   "cell_type": "code",
   "execution_count": 36,
   "metadata": {
    "collapsed": true
   },
   "outputs": [],
   "source": [
    "def get_year_spider(country):\n",
    "    \"\"\"\n",
    "    country: which country to be crawled\n",
    "    result: list of years that COE performed\n",
    "    \"\"\"\n",
    "    result = []\n",
    "    url = \"https://www.allianceforcoffeeexcellence.org/en/cup-of-excellence/country-programs/\" + str(country)\n",
    "    source_code = requests.get(url)\n",
    "    plain_text = source_code.text\n",
    "    soup = BeautifulSoup(plain_text, 'lxml')\n",
    "   \n",
    "    select = soup.find('select', id = 'id_competition')\n",
    "    result = [year.text for year in select.find_all('option')]\n",
    "    return result"
   ]
  },
  {
   "cell_type": "code",
   "execution_count": null,
   "metadata": {
    "collapsed": true
   },
   "outputs": [],
   "source": []
  },
  {
   "cell_type": "code",
   "execution_count": null,
   "metadata": {
    "collapsed": true
   },
   "outputs": [],
   "source": [
    "def spider(max_pages):\n",
    "    page = 1\n",
    "    while page < max_pages:\n",
    "        url = \"https://www.allianceforcoffeeexcellence.org/en/cup-of-excellence/country-programs/\" + str(country) + \"/\" + str(year)\n",
    "        source_code = requests.get(url)\n",
    "        plain_text = source_code.text\n",
    "        soup = BeautifulSoup(plain_text, 'lxml')\n",
    "        \n",
    "        \n",
    "        "
   ]
  }
 ],
 "metadata": {
  "kernelspec": {
   "display_name": "Python 3",
   "language": "python",
   "name": "python3"
  },
  "language_info": {
   "codemirror_mode": {
    "name": "ipython",
    "version": 3
   },
   "file_extension": ".py",
   "mimetype": "text/x-python",
   "name": "python",
   "nbconvert_exporter": "python",
   "pygments_lexer": "ipython3",
   "version": "3.6.0"
  }
 },
 "nbformat": 4,
 "nbformat_minor": 2
}
