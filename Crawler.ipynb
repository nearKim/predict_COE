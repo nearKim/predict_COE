{
 "cells": [
  {
   "cell_type": "code",
   "execution_count": 74,
   "metadata": {
    "collapsed": true
   },
   "outputs": [],
   "source": [
    "import requests\n",
    "import re\n",
    "import copy\n",
    "import pandas as pd\n",
    "import numpy as np\n",
    "from bs4 import BeautifulSoup"
   ]
  },
  {
   "cell_type": "code",
   "execution_count": 4,
   "metadata": {
    "collapsed": true
   },
   "outputs": [],
   "source": [
    "countries_dict = {\"Bolivia\": \"bolivia\", \"Brazil Naturals\" : \"brazil-naturals\"  , \"Brazil Pulped Naturals\":\"brazil-pulped-naturals\", \"Burundi\": \"burundi-program\", \"Colombia\" : \"colombia-third-program\" , \"Colombia North\": \"colombia-program\", \"Colombia South\" : \"colombia-second-program\", \"Costa Rica\": \"costa-rica-program\", \"El Salvador\" : \"el-salvador-program\", \"Guatemala\" : \"guatemala-program\", \"Honduras\" : \"honduras-program\" , \"Mexico\" : \"mexico-program\", \"Nicaragua\" : \"nicaragua-program\", \" Peru\" : \"peru\", \"Rwanda\" : \"rwanda-program\"}"
   ]
  },
  {
   "cell_type": "code",
   "execution_count": 5,
   "metadata": {
    "collapsed": false
   },
   "outputs": [],
   "source": [
    "def get_year_spider(country):\n",
    "    \"\"\"\n",
    "    country: which country to be crawled\n",
    "    result: list of years that COE performed\n",
    "    \"\"\"\n",
    "    result = []\n",
    "    url = \"https://www.allianceforcoffeeexcellence.org/en/cup-of-excellence/country-programs/\" + str(country)\n",
    "    source_code = requests.get(url)\n",
    "    plain_text = source_code.text\n",
    "    soup = BeautifulSoup(plain_text, 'lxml')\n",
    "    select = soup.find('select', id = 'id_competition')\n",
    "    result = [year.text for year in select.find_all('option')]\n",
    "    return result"
   ]
  },
  {
   "cell_type": "code",
   "execution_count": 6,
   "metadata": {
    "collapsed": false
   },
   "outputs": [
    {
     "name": "stdout",
     "output_type": "stream",
     "text": [
      "Trying to crawl country.... bolivia\n",
      "Successful.\n",
      "Trying to crawl country.... brazil-naturals\n",
      "Successful.\n",
      "Trying to crawl country.... brazil-pulped-naturals\n",
      "Successful.\n",
      "Trying to crawl country.... burundi-program\n",
      "Successful.\n",
      "Trying to crawl country.... colombia-third-program\n",
      "Failed.\n",
      "Trying to crawl country.... colombia-program\n",
      "Successful.\n",
      "Trying to crawl country.... colombia-second-program\n",
      "Successful.\n",
      "Trying to crawl country.... costa-rica-program\n",
      "Successful.\n",
      "Trying to crawl country.... el-salvador-program\n",
      "Successful.\n",
      "Trying to crawl country.... guatemala-program\n",
      "Successful.\n",
      "Trying to crawl country.... honduras-program\n",
      "Successful.\n",
      "Trying to crawl country.... mexico-program\n",
      "Successful.\n",
      "Trying to crawl country.... nicaragua-program\n",
      "Successful.\n",
      "Trying to crawl country.... peru\n",
      "Failed.\n",
      "Trying to crawl country.... rwanda-program\n",
      "Successful.\n"
     ]
    }
   ],
   "source": [
    "# Initialize Dataframe\n",
    "coe = pd.DataFrame(columns = ['country', 'year'])\n",
    "\n",
    "# Do crawler work\n",
    "for key, value  in countries_dict.items():\n",
    "    try:\n",
    "        print(\"Trying to crawl country.... \" + value)\n",
    "        temp_year = copy.deepcopy(get_year_spider(value))\n",
    "        temp_country = [key] * len(temp_year)\n",
    "        temp_df = pd.DataFrame(\n",
    "        {'country' : temp_country,\n",
    "        'year' : temp_year\n",
    "        })\n",
    "        coe = coe.append(temp_df)\n",
    "        print(\"Successful.\")\n",
    "    except:\n",
    "        print(\"Failed.\")\n",
    "\n",
    "# reset_index\n",
    "coe = coe.reset_index(drop = True)"
   ]
  },
  {
   "cell_type": "code",
   "execution_count": 91,
   "metadata": {
    "collapsed": false
   },
   "outputs": [],
   "source": [
    "# Now control 'year' column for url format\n",
    "for year in coe['year']:\n",
    "    if re.findall(r',' , year):\n",
    "        coe['year'] = coe['year'].replace(\n",
    "            [year for year in coe['year'] if re.findall(r',' ,  year)],\n",
    "            ['2015-12', '2015-01', '2016-05', '2016-06', '2016-05'])"
   ]
  },
  {
   "cell_type": "code",
   "execution_count": 97,
   "metadata": {
    "collapsed": false
   },
   "outputs": [],
   "source": [
    "# Set multi-index\n",
    "coe.set_index(['country', 'year'], inplace = True)"
   ]
  },
  {
   "cell_type": "code",
   "execution_count": 8,
   "metadata": {
    "collapsed": true
   },
   "outputs": [],
   "source": [
    "def get_head_spider(country, year):\n",
    "    \"\"\"\n",
    "    country: which country to be crawled\n",
    "    year: which year to be crawled\n",
    "    result: list of headers that form a table\n",
    "    \"\"\"\n",
    "    result = []\n",
    "    url = \"https://www.allianceforcoffeeexcellence.org/en/cup-of-excellence/country-programs/\" + str(country) +\"/\"+ str(year)\n",
    "    try:\n",
    "        print(\"Trying to get headers from..... \"+ country + \", \"+ year)\n",
    "        source_code = requests.get(url)\n",
    "    except: \n",
    "        print(\"failed to retrieve headers\")\n",
    "    plain_text = source_code.text\n",
    "    soup = BeautifulSoup(plain_text, 'lxml')\n",
    "    \n",
    "    for test in soup.find_all('tr'):\n",
    "        cols = test.find_all('th')\n",
    "        result = [ele.text.strip() for ele in cols]\n",
    "        break\n",
    "    return result\n"
   ]
  },
  {
   "cell_type": "code",
   "execution_count": 65,
   "metadata": {
    "collapsed": false
   },
   "outputs": [],
   "source": [
    "def get_elements_spider(country, year):\n",
    "    \"\"\"\n",
    "    country: which country to be crawled\n",
    "    year: which year to be crawled\n",
    "    result: list of lists which contains crawled data table of country, year pair \n",
    "    \"\"\"\n",
    "    result = []\n",
    "    url = \"https://www.allianceforcoffeeexcellence.org/en/cup-of-excellence/country-programs/\" + str(country) +\"/\"+ str(year)\n",
    "    try:\n",
    "        print(\"Trying to get data of..... \"+ country + \", \"+ year)\n",
    "        source_code = requests.get(url)\n",
    "    except: \n",
    "        print(\"failed to retrieve data\")\n",
    "    plain_text = source_code.text\n",
    "    soup = BeautifulSoup(plain_text, 'lxml')\n",
    "    \n",
    "    for test in soup.find_all('tr'):\n",
    "        temp_list = [ele.text.strip() for ele in test.find_all('td')]\n",
    "        result.append(temp_list)\n",
    "    return result[1:]"
   ]
  },
  {
   "cell_type": "code",
   "execution_count": 66,
   "metadata": {
    "collapsed": false
   },
   "outputs": [
    {
     "name": "stdout",
     "output_type": "stream",
     "text": [
      "Trying to get data of..... bolivia, 2009\n"
     ]
    },
    {
     "data": {
      "text/plain": [
       "[['1',\n",
       "  '24',\n",
       "  'Agrotakesi SA',\n",
       "  'Mauricio Ramiro Diez de Medina',\n",
       "  'Yanacahi, Yungas of La Paz',\n",
       "  '93.36'],\n",
       " ['2',\n",
       "  '28',\n",
       "  'Café Sima del Jaguar A',\n",
       "  'Braulio Luque Yana',\n",
       "  'Caranavi, Yungas of La Paz',\n",
       "  '92.05'],\n",
       " ['3',\n",
       "  '23',\n",
       "  'Café Monterrey',\n",
       "  'Valentin Choquehuanca Aduviri',\n",
       "  'Caranavi, Yungas of La Paz',\n",
       "  '91.62'],\n",
       " ['4',\n",
       "  '20',\n",
       "  'Café Jacaranda',\n",
       "  'Cruz Elias Choconapi',\n",
       "  'Caranavi, Yungas of La Paz',\n",
       "  '91.38'],\n",
       " ['5',\n",
       "  '21',\n",
       "  'Café Alan Coffe',\n",
       "  'Luis Yujra Arismende',\n",
       "  'Caranavi, Yungas of La Paz',\n",
       "  '90.90'],\n",
       " ['6',\n",
       "  '26',\n",
       "  'Café Central',\n",
       "  'Luis Huayhua Chiji',\n",
       "  'Caranavi, Yungas of La Paz',\n",
       "  '90.71'],\n",
       " ['7',\n",
       "  '23',\n",
       "  'Café Mondono',\n",
       "  'Carmelo Mamani Titirico',\n",
       "  'Caranavi, Yungas of La Paz',\n",
       "  '90.17'],\n",
       " ['8',\n",
       "  '27',\n",
       "  'Café Palmeiras 3',\n",
       "  'Mario Mamani Machaca',\n",
       "  'Caranavi, Yungas of La Paz',\n",
       "  '89.12'],\n",
       " ['9',\n",
       "  '29',\n",
       "  'Café Origen',\n",
       "  'Damian Huanca Flores',\n",
       "  'Caranavi, Yungas of La Paz',\n",
       "  '87.95'],\n",
       " ['10',\n",
       "  '23',\n",
       "  'Café Gelen',\n",
       "  'Ayda Titirico Hilari',\n",
       "  'Caranavi, Yungas of La Paz',\n",
       "  '87.52'],\n",
       " ['11',\n",
       "  '23',\n",
       "  'Café COACS Ltda. Aurelio',\n",
       "  'Eugenia Condori Mamani',\n",
       "  'Caranavi, Yungas of La Paz',\n",
       "  '86.62'],\n",
       " ['12',\n",
       "  '30',\n",
       "  'Café Kantuta',\n",
       "  'Rosendo Quispe Tintaya',\n",
       "  'Caranavi, Yungas of La Paz',\n",
       "  '86.33'],\n",
       " ['13',\n",
       "  '24',\n",
       "  'Café Cooperativa San Ignacio...',\n",
       "  'Anacleto Uluri Luque',\n",
       "  'Caranavi, Yungas of La Paz',\n",
       "  '86.26'],\n",
       " ['14',\n",
       "  '29',\n",
       "  'Café Primavera II',\n",
       "  'Agustina Machaca Quispe',\n",
       "  'Caranavi, Yungas of La Paz',\n",
       "  '86.12'],\n",
       " ['15',\n",
       "  '25',\n",
       "  'Café Cooperativa San Ignacio V',\n",
       "  'Juan Coaquira Mamani',\n",
       "  'Caranavi, Yungas of La Paz',\n",
       "  '85.81'],\n",
       " ['16',\n",
       "  '28',\n",
       "  'Café Wara Wara III',\n",
       "  'Lucila Isidora Quispe de Quispe',\n",
       "  'Caranavi, Yungas of La Paz',\n",
       "  '85.60'],\n",
       " ['17',\n",
       "  '23',\n",
       "  'Café Frente a Illimani II',\n",
       "  'Santusa Lucana de Mamani',\n",
       "  'Caranavi, Yungas of La Paz',\n",
       "  '85.57'],\n",
       " ['18',\n",
       "  '20',\n",
       "  'Café Flor de Mayo',\n",
       "  'Pedro Castro Conurana',\n",
       "  'Caranavi, Yungas of La Paz',\n",
       "  '85.24'],\n",
       " ['19',\n",
       "  '20',\n",
       "  'Café Golondrina',\n",
       "  'Celso David Mayta Quispe',\n",
       "  'Colonia Copacabana, Rural Caranavi, Province of Caranavi',\n",
       "  '85.24'],\n",
       " ['20',\n",
       "  '29',\n",
       "  'Café Picaflor',\n",
       "  'Valentina Flores de M.',\n",
       "  'Caranavi, Yungas of La Paz',\n",
       "  '85.21'],\n",
       " ['21',\n",
       "  '25',\n",
       "  'Café Alto Asuncion',\n",
       "  'Eleuteria Villca Salvador',\n",
       "  'Caranavi, Yungas of La Paz',\n",
       "  '85.17'],\n",
       " ['22',\n",
       "  '34',\n",
       "  'Café Rio Cumbre de la Selva',\n",
       "  'Gabriel Chura Uluri',\n",
       "  'Caranavi, Yungas of La Paz',\n",
       "  '85.14'],\n",
       " ['23',\n",
       "  '25',\n",
       "  'Café Primavera',\n",
       "  'Victor Quispe Mamani',\n",
       "  'Caranavi, Yungas of La Paz',\n",
       "  '85.00'],\n",
       " ['24',\n",
       "  '23',\n",
       "  'Café Oro',\n",
       "  'Teodocia Castro Conurana',\n",
       "  'Caranavi, Yungas of La Paz',\n",
       "  '84.95'],\n",
       " ['25',\n",
       "  '22',\n",
       "  'Café El Sombral',\n",
       "  'Damian W. Condori Poma',\n",
       "  'Caranavi, Yungas of La Paz',\n",
       "  '84.81'],\n",
       " ['26',\n",
       "  '28',\n",
       "  'Café Rudi',\n",
       "  'Franklin Cahuapaza Ticona',\n",
       "  'Caranavi, Yungas of La Paz',\n",
       "  '84.69'],\n",
       " ['27',\n",
       "  '31',\n",
       "  'Café Flor de Mayo I',\n",
       "  'Felipe Sacaca Diaz',\n",
       "  'Caranavi, Yungas of La Paz',\n",
       "  '84.60'],\n",
       " ['28',\n",
       "  '28',\n",
       "  'Café Sofia',\n",
       "  'Sofia Quisbert Castillo',\n",
       "  'Caranavi, Yungas of La Paz',\n",
       "  '84.33'],\n",
       " ['29',\n",
       "  '28',\n",
       "  'Café Flor Rosa',\n",
       "  'Martha Ojeda Mamani',\n",
       "  'Caranavi, Yungas of La Paz',\n",
       "  '84.33'],\n",
       " ['30',\n",
       "  '25',\n",
       "  'Café Flor de B',\n",
       "  'Sebastian Olori Huanca',\n",
       "  'Caranavi, Yungas of La Paz',\n",
       "  '84.21']]"
      ]
     },
     "execution_count": 66,
     "metadata": {},
     "output_type": "execute_result"
    }
   ],
   "source": [
    "get_elements_spider('bolivia','2009')"
   ]
  },
  {
   "cell_type": "code",
   "execution_count": 36,
   "metadata": {
    "collapsed": false
   },
   "outputs": [
    {
     "name": "stdout",
     "output_type": "stream",
     "text": [
      "Trying to get headers from..... bolivia, 2009\n",
      "['Rank', 'Size', 'Farm / CWS', 'Farmer / Representative', 'Region', 'Score']\n"
     ]
    }
   ],
   "source": [
    "print(get_head_spider('bolivia', '2009'))"
   ]
  },
  {
   "cell_type": "code",
   "execution_count": null,
   "metadata": {
    "collapsed": true
   },
   "outputs": [],
   "source": [
    "def spider(max_pages):\n",
    "    page = 1\n",
    "    while page < max_pages:\n",
    "        url = \"https://www.allianceforcoffeeexcellence.org/en/cup-of-excellence/country-programs/\" + str(country) + \"/\" + str(year)\n",
    "        source_code = requests.get(url)\n",
    "        plain_text = source_code.text\n",
    "        soup = BeautifulSoup(plain_text, 'lxml')\n",
    "        \n",
    "        \n",
    "        "
   ]
  }
 ],
 "metadata": {
  "kernelspec": {
   "display_name": "Python 3",
   "language": "python",
   "name": "python3"
  },
  "language_info": {
   "codemirror_mode": {
    "name": "ipython",
    "version": 3
   },
   "file_extension": ".py",
   "mimetype": "text/x-python",
   "name": "python",
   "nbconvert_exporter": "python",
   "pygments_lexer": "ipython3",
   "version": "3.6.0"
  }
 },
 "nbformat": 4,
 "nbformat_minor": 2
}
